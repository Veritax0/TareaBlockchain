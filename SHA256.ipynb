{
  "nbformat": 4,
  "nbformat_minor": 0,
  "metadata": {
    "colab": {
      "provenance": [],
      "authorship_tag": "ABX9TyMBFegDP9Dt89BfdUaP5nE7",
      "include_colab_link": true
    },
    "kernelspec": {
      "name": "python3",
      "display_name": "Python 3"
    },
    "language_info": {
      "name": "python"
    }
  },
  "cells": [
    {
      "cell_type": "markdown",
      "metadata": {
        "id": "view-in-github",
        "colab_type": "text"
      },
      "source": [
        "<a href=\"https://colab.research.google.com/github/Veritax0/TareaBlockchain/blob/main/SHA256.ipynb\" target=\"_parent\"><img src=\"https://colab.research.google.com/assets/colab-badge.svg\" alt=\"Open In Colab\"/></a>"
      ]
    },
    {
      "cell_type": "code",
      "execution_count": null,
      "metadata": {
        "id": "sTtAEKbPvWSs"
      },
      "outputs": [],
      "source": [
        "import hashlib\n",
        "\n",
        "def calcular_sha256(texto):\n",
        "    sha256_hash = hashlib.sha256()\n",
        "    sha256_hash.update(texto.encode('utf-8'))\n",
        "    return sha256_hash.hexdigest()\n",
        "\n",
        "def encontrar_nonce(texto):\n",
        "    nonce = 0\n",
        "    while True:\n",
        "        texto_con_nonce = texto + str(nonce)\n",
        "        hash_resultado = calcular_sha256(texto_con_nonce)\n",
        "        if hash_resultado.startswith(\"000000\"):\n",
        "            return nonce, hash_resultado\n",
        "        nonce += 1\n",
        "\n",
        "\n",
        "\n",
        "\n"
      ]
    },
    {
      "cell_type": "code",
      "source": [
        "texto = \"Texto de prueba para la clase de blockchain\"\n",
        "\n",
        "\n",
        "nonce_encontrado, hash_resultado = encontrar_nonce(texto)\n",
        "texto_con_nonce = texto + \" \" + str(nonce_encontrado)\n",
        "\n",
        "\n",
        "print(\"Texto:\", texto_con_nonce)\n",
        "print(\"SHA-256:\", hash_resultado)\n",
        "print(len(hash_resultado))\n"
      ],
      "metadata": {
        "colab": {
          "base_uri": "https://localhost:8080/"
        },
        "id": "15VOmFmpwCql",
        "outputId": "90f14fa8-19f2-49cb-c592-69e2f864b9f1"
      },
      "execution_count": null,
      "outputs": [
        {
          "output_type": "stream",
          "name": "stdout",
          "text": [
            "Texto: Texto de prueba para la clase de blockchain 13531586\n",
            "SHA-256: 000000da18834f647953a32a144b3c2691b93b507d33af01879e262350c58fe4\n",
            "64\n"
          ]
        }
      ]
    },
    {
      "cell_type": "code",
      "source": [
        "import hashlib\n",
        "\n",
        "class Block:\n",
        "    def __init__(self, index, previousHash, transactions):\n",
        "        self.index = index\n",
        "        self.previousHash = previousHash\n",
        "        self.transactions = transactions\n",
        "        self.nonce, self.hash = self.encontrar_nonce()\n",
        "\n",
        "    def calcular_sha256(self, texto):\n",
        "        sha256_hash = hashlib.sha256()\n",
        "        sha256_hash.update(texto.encode('utf-8'))\n",
        "        return sha256_hash.hexdigest()\n",
        "\n",
        "    def encontrar_nonce(self):\n",
        "        nonce = 0\n",
        "        while True:\n",
        "            texto_con_nonce = str(self.index) + self.previousHash + str(self.transactions) + str(nonce)\n",
        "            hash_resultado = self.calcular_sha256(texto_con_nonce)\n",
        "            if hash_resultado.startswith(\"000000\"):\n",
        "                return nonce, hash_resultado\n",
        "            nonce += 1\n",
        "\n",
        "\n"
      ],
      "metadata": {
        "id": "Yl58ej92uy9V"
      },
      "execution_count": null,
      "outputs": []
    },
    {
      "cell_type": "code",
      "source": [
        "def calcular_merkle_root(transacciones):\n",
        "    if len(transacciones) == 1:\n",
        "        return transacciones[0]\n",
        "\n",
        "    hashes = [block.calcular_sha256(transaction) for transaction in transacciones]\n",
        "\n",
        "    if len(hashes) % 2 != 0:\n",
        "        hashes.append(hashes[-1])\n",
        "\n",
        "    new_hashes = []\n",
        "    for i in range(0, len(hashes), 2):\n",
        "        combined = hashes[i] + hashes[i + 1]\n",
        "        new_hashes.append(block.calcular_sha256(combined))\n",
        "\n",
        "    return calcular_merkle_root(new_hashes)\n"
      ],
      "metadata": {
        "id": "a0JDLwqWfcm3"
      },
      "execution_count": null,
      "outputs": []
    },
    {
      "cell_type": "code",
      "source": [
        "# Crear algunos bloques de ejemplo\n",
        "bloque1 = Block(1, \"00000000000000000000000000000000\", [\"transacción 1\", \"transacción 2\"])\n",
        "bloque2 = Block(2, bloque1.hash, [\"transacción 3\", \"transacción 4\"])\n",
        "bloque3 = Block(3, bloque2.hash, [\"transacción 5\", \"transacción 6\"])\n",
        "\n",
        "# Crear una lista de transacciones de todos los bloques\n",
        "transacciones = []\n",
        "for bloque in [bloque1, bloque2, bloque3]:\n",
        "    transacciones.extend(bloque.transactions)\n",
        "\n",
        "# Calcular la raíz de Merkle\n",
        "raiz_merkle = calcular_merkle_root(transacciones)\n",
        "print(\"Raíz de Merkle:\", raiz_merkle)"
      ],
      "metadata": {
        "colab": {
          "base_uri": "https://localhost:8080/"
        },
        "id": "XvQZqGZYffM8",
        "outputId": "0224f733-14dc-45e9-b9c8-7116541c28be"
      },
      "execution_count": null,
      "outputs": [
        {
          "output_type": "stream",
          "name": "stdout",
          "text": [
            "Raíz de Merkle: ee573b4521fabd59c5311b0b10db7888d47d1cf7f7deb6c0a6110bac08172564\n"
          ]
        }
      ]
    }
  ]
}